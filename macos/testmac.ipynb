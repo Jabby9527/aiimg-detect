{
 "cells": [
  {
   "cell_type": "code",
   "execution_count": 2,
   "metadata": {},
   "outputs": [
    {
     "name": "stdout",
     "output_type": "stream",
     "text": [
      "2.5.1\n",
      "在设备 mps 上执行操作的结果：\n",
      "tensor([1, 0, 0, 1], device='mps:0', dtype=torch.int32)\n"
     ]
    }
   ],
   "source": [
    "import torch\n",
    "# 创建两个示例张量，这里以简单的一维整型张量为例，你可以根据需求替换维度和数据类型等\n",
    "tensor1 = torch.tensor([1, 0, 1, 1], dtype=torch.int)\n",
    "tensor2 = torch.tensor([1, 1, 0, 1], dtype=torch.int)\n",
    "\n",
    "# 确定运行设备，优先选择CUDA设备（如果可用），其次看MPS设备（如果可用），最后是CPU\n",
    "device = torch.device(\"cuda\" if torch.cuda.is_available() else \"mps\" if torch.backends.mps.is_available() else \"cpu\")\n",
    "\n",
    "# 将张量移动到选定的设备上\n",
    "tensor1 = tensor1.to(device)\n",
    "tensor2 = tensor2.to(device)\n",
    "\n",
    "# 执行按位与逻辑操作\n",
    "result = tensor1 & tensor2\n",
    "print(torch.__version__)\n",
    "\n",
    "print(\"在设备\", device, \"上执行操作的结果：\")\n",
    "print(result)\n"
   ]
  },
  {
   "cell_type": "code",
   "execution_count": null,
   "metadata": {},
   "outputs": [],
   "source": []
  }
 ],
 "metadata": {
  "kernelspec": {
   "display_name": "cityu",
   "language": "python",
   "name": "python3"
  },
  "language_info": {
   "codemirror_mode": {
    "name": "ipython",
    "version": 3
   },
   "file_extension": ".py",
   "mimetype": "text/x-python",
   "name": "python",
   "nbconvert_exporter": "python",
   "pygments_lexer": "ipython3",
   "version": "3.12.4"
  }
 },
 "nbformat": 4,
 "nbformat_minor": 2
}
